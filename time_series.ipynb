{
  "nbformat": 4,
  "nbformat_minor": 0,
  "metadata": {
    "colab": {
      "name": "time_series.ipynb",
      "provenance": [],
      "authorship_tag": "ABX9TyNzqItYFck5pQ7J1GGeSYZV",
      "include_colab_link": true
    },
    "kernelspec": {
      "name": "python3",
      "display_name": "Python 3"
    },
    "accelerator": "GPU"
  },
  "cells": [
    {
      "cell_type": "markdown",
      "metadata": {
        "id": "view-in-github",
        "colab_type": "text"
      },
      "source": [
        "<a href=\"https://colab.research.google.com/github/sammiyo/Time-series-analysis/blob/main/time_series.ipynb\" target=\"_parent\"><img src=\"https://colab.research.google.com/assets/colab-badge.svg\" alt=\"Open In Colab\"/></a>"
      ]
    },
    {
      "cell_type": "code",
      "metadata": {
        "id": "qYDUNc1yJ531"
      },
      "source": [
        "import numpy as np\r\n",
        "import matplotlib.pyplot as plt\r\n",
        "import pandas as pd\r\n",
        "pd.set_option('display.float_format', lambda x: '%.4f' % x)\r\n",
        "import seaborn as sns\r\n",
        "sns.set_context(\"paper\", font_scale=1.3)\r\n",
        "sns.set_style('white')\r\n",
        "import warnings\r\n",
        "warnings.filterwarnings('ignore')\r\n",
        "from time import time\r\n",
        "import matplotlib.ticker as tkr\r\n",
        "from scipy import stats\r\n",
        "from statsmodels.tsa.stattools import adfuller\r\n",
        "from sklearn import preprocessing\r\n",
        "from statsmodels.tsa.stattools import pacf\r\n",
        "%matplotlib inline\r\n",
        "import math\r\n",
        "import keras\r\n",
        "from keras.models import Sequential\r\n",
        "from keras.layers import Dense\r\n",
        "from keras.layers import LSTM\r\n",
        "from keras.layers import Dropout\r\n",
        "from keras.layers import *\r\n",
        "from sklearn.preprocessing import MinMaxScaler\r\n",
        "from sklearn.metrics import mean_squared_error\r\n",
        "from sklearn.metrics import mean_absolute_error\r\n",
        "from keras.callbacks import EarlyStopping"
      ],
      "execution_count": null,
      "outputs": []
    },
    {
      "cell_type": "code",
      "metadata": {
        "id": "92D_crAPKIjr"
      },
      "source": [
        "df=pd.read_csv('household_power_consumption.txt', delimiter=';')"
      ],
      "execution_count": null,
      "outputs": []
    },
    {
      "cell_type": "code",
      "metadata": {
        "colab": {
          "base_uri": "https://localhost:8080/",
          "height": 222
        },
        "id": "dYAECKMCKO6X",
        "outputId": "3bfd4845-4fb5-4235-b25f-17b9bb2a7526"
      },
      "source": [
        "df.head()"
      ],
      "execution_count": null,
      "outputs": [
        {
          "output_type": "execute_result",
          "data": {
            "text/html": [
              "<div>\n",
              "<style scoped>\n",
              "    .dataframe tbody tr th:only-of-type {\n",
              "        vertical-align: middle;\n",
              "    }\n",
              "\n",
              "    .dataframe tbody tr th {\n",
              "        vertical-align: top;\n",
              "    }\n",
              "\n",
              "    .dataframe thead th {\n",
              "        text-align: right;\n",
              "    }\n",
              "</style>\n",
              "<table border=\"1\" class=\"dataframe\">\n",
              "  <thead>\n",
              "    <tr style=\"text-align: right;\">\n",
              "      <th></th>\n",
              "      <th>Date</th>\n",
              "      <th>Time</th>\n",
              "      <th>Global_active_power</th>\n",
              "      <th>Global_reactive_power</th>\n",
              "      <th>Voltage</th>\n",
              "      <th>Global_intensity</th>\n",
              "      <th>Sub_metering_1</th>\n",
              "      <th>Sub_metering_2</th>\n",
              "      <th>Sub_metering_3</th>\n",
              "    </tr>\n",
              "  </thead>\n",
              "  <tbody>\n",
              "    <tr>\n",
              "      <th>0</th>\n",
              "      <td>16/12/2006</td>\n",
              "      <td>17:24:00</td>\n",
              "      <td>4.216</td>\n",
              "      <td>0.418</td>\n",
              "      <td>234.840</td>\n",
              "      <td>18.400</td>\n",
              "      <td>0.000</td>\n",
              "      <td>1.000</td>\n",
              "      <td>17.0000</td>\n",
              "    </tr>\n",
              "    <tr>\n",
              "      <th>1</th>\n",
              "      <td>16/12/2006</td>\n",
              "      <td>17:25:00</td>\n",
              "      <td>5.360</td>\n",
              "      <td>0.436</td>\n",
              "      <td>233.630</td>\n",
              "      <td>23.000</td>\n",
              "      <td>0.000</td>\n",
              "      <td>1.000</td>\n",
              "      <td>16.0000</td>\n",
              "    </tr>\n",
              "    <tr>\n",
              "      <th>2</th>\n",
              "      <td>16/12/2006</td>\n",
              "      <td>17:26:00</td>\n",
              "      <td>5.374</td>\n",
              "      <td>0.498</td>\n",
              "      <td>233.290</td>\n",
              "      <td>23.000</td>\n",
              "      <td>0.000</td>\n",
              "      <td>2.000</td>\n",
              "      <td>17.0000</td>\n",
              "    </tr>\n",
              "    <tr>\n",
              "      <th>3</th>\n",
              "      <td>16/12/2006</td>\n",
              "      <td>17:27:00</td>\n",
              "      <td>5.388</td>\n",
              "      <td>0.502</td>\n",
              "      <td>233.740</td>\n",
              "      <td>23.000</td>\n",
              "      <td>0.000</td>\n",
              "      <td>1.000</td>\n",
              "      <td>17.0000</td>\n",
              "    </tr>\n",
              "    <tr>\n",
              "      <th>4</th>\n",
              "      <td>16/12/2006</td>\n",
              "      <td>17:28:00</td>\n",
              "      <td>3.666</td>\n",
              "      <td>0.528</td>\n",
              "      <td>235.680</td>\n",
              "      <td>15.800</td>\n",
              "      <td>0.000</td>\n",
              "      <td>1.000</td>\n",
              "      <td>17.0000</td>\n",
              "    </tr>\n",
              "  </tbody>\n",
              "</table>\n",
              "</div>"
            ],
            "text/plain": [
              "         Date      Time  ... Sub_metering_2 Sub_metering_3\n",
              "0  16/12/2006  17:24:00  ...          1.000        17.0000\n",
              "1  16/12/2006  17:25:00  ...          1.000        16.0000\n",
              "2  16/12/2006  17:26:00  ...          2.000        17.0000\n",
              "3  16/12/2006  17:27:00  ...          1.000        17.0000\n",
              "4  16/12/2006  17:28:00  ...          1.000        17.0000\n",
              "\n",
              "[5 rows x 9 columns]"
            ]
          },
          "metadata": {
            "tags": []
          },
          "execution_count": 3
        }
      ]
    },
    {
      "cell_type": "code",
      "metadata": {
        "colab": {
          "base_uri": "https://localhost:8080/"
        },
        "id": "5CaFSCcBQjtc",
        "outputId": "0712671b-f284-42e7-c65b-b39db6913118"
      },
      "source": [
        "df.shape"
      ],
      "execution_count": null,
      "outputs": [
        {
          "output_type": "execute_result",
          "data": {
            "text/plain": [
              "(668468, 9)"
            ]
          },
          "metadata": {
            "tags": []
          },
          "execution_count": 4
        }
      ]
    },
    {
      "cell_type": "code",
      "metadata": {
        "colab": {
          "base_uri": "https://localhost:8080/"
        },
        "id": "vkH2WHpVLf2i",
        "outputId": "01dee83a-9044-4c9d-fdb7-8ed2d1dd4119"
      },
      "source": [
        "type(df['Global_active_power'][0])"
      ],
      "execution_count": null,
      "outputs": [
        {
          "output_type": "execute_result",
          "data": {
            "text/plain": [
              "str"
            ]
          },
          "metadata": {
            "tags": []
          },
          "execution_count": 5
        }
      ]
    },
    {
      "cell_type": "code",
      "metadata": {
        "id": "ijDPtxf5L-Xx"
      },
      "source": [
        "# df=df.dropna"
      ],
      "execution_count": null,
      "outputs": []
    },
    {
      "cell_type": "markdown",
      "metadata": {
        "id": "0mHSd6YjMohD"
      },
      "source": [
        "**Preprocess**"
      ]
    },
    {
      "cell_type": "code",
      "metadata": {
        "id": "Iq3ca2JVKQsJ"
      },
      "source": [
        "# combine date and time column together\r\n",
        "df['date_time'] = pd.to_datetime(df['Date'] + ' ' + df['Time'])\r\n",
        "# make Global_active_power from string to numeric\r\n",
        "df['Global_active_power'] = pd.to_numeric(df['Global_active_power'], errors='coerce')\r\n"
      ],
      "execution_count": null,
      "outputs": []
    },
    {
      "cell_type": "code",
      "metadata": {
        "id": "D0nVEIrXMF3y"
      },
      "source": [
        "# create columns for year, quarter, month and day\r\n",
        "df['year'] = df['date_time'].apply(lambda x: x.year)\r\n",
        "df['quarter'] = df['date_time'].apply(lambda x: x.quarter)\r\n",
        "df['month'] = df['date_time'].apply(lambda x: x.month)\r\n",
        "df['day'] = df['date_time'].apply(lambda x: x.day)"
      ],
      "execution_count": null,
      "outputs": []
    },
    {
      "cell_type": "code",
      "metadata": {
        "id": "d-NdZS0lN6K-"
      },
      "source": [
        "df=df.loc[:,['date_time','Global_active_power', 'year','quarter','month','day']]\r\n",
        "df.sort_values('date_time', inplace=True, ascending=True)\r\n",
        "df=df.dropna()\r\n",
        "df = df.reset_index(drop=True)\r\n",
        "# create weekday column to mark days from 0 to 6\r\n",
        "df[\"weekday\"]=df.apply(lambda row: row[\"date_time\"].weekday(),axis=1)\r\n",
        "# arrange weekday so that weekdays are 0 and weekends are 1\r\n",
        "df[\"weekday\"] = (df[\"weekday\"] < 5).astype(int)"
      ],
      "execution_count": null,
      "outputs": []
    },
    {
      "cell_type": "code",
      "metadata": {
        "colab": {
          "base_uri": "https://localhost:8080/"
        },
        "id": "WR6jrHu_PP8H",
        "outputId": "5c389469-da7e-4f63-eeef-a75f6e8c2cec"
      },
      "source": [
        "df['date_time'].min()"
      ],
      "execution_count": null,
      "outputs": [
        {
          "output_type": "execute_result",
          "data": {
            "text/plain": [
              "Timestamp('2006-12-16 17:24:00')"
            ]
          },
          "metadata": {
            "tags": []
          },
          "execution_count": 10
        }
      ]
    },
    {
      "cell_type": "code",
      "metadata": {
        "colab": {
          "base_uri": "https://localhost:8080/"
        },
        "id": "8UbTOtYXPrDd",
        "outputId": "0848f569-fa93-4bf3-967a-a8bb9a8942bc"
      },
      "source": [
        "df['date_time'].max()"
      ],
      "execution_count": null,
      "outputs": [
        {
          "output_type": "execute_result",
          "data": {
            "text/plain": [
              "Timestamp('2008-12-03 23:59:00')"
            ]
          },
          "metadata": {
            "tags": []
          },
          "execution_count": 11
        }
      ]
    },
    {
      "cell_type": "code",
      "metadata": {
        "colab": {
          "base_uri": "https://localhost:8080/"
        },
        "id": "qXupVuIrQSZF",
        "outputId": "26ba9a19-5fb3-4e65-ae0a-2e9665bf2fde"
      },
      "source": [
        "df.shape"
      ],
      "execution_count": null,
      "outputs": [
        {
          "output_type": "execute_result",
          "data": {
            "text/plain": [
              "(664527, 7)"
            ]
          },
          "metadata": {
            "tags": []
          },
          "execution_count": 12
        }
      ]
    },
    {
      "cell_type": "code",
      "metadata": {
        "colab": {
          "base_uri": "https://localhost:8080/"
        },
        "id": "8z0aPi5ZPteq",
        "outputId": "c6def68c-9f4f-4274-eb9e-3ae8f96a2438"
      },
      "source": [
        "# use D’Agostino’s K² Test to quantify whether our data looks as though it was drawn from a Gaussian distribution\r\n",
        "stat, p = stats.normaltest(df.Global_active_power)\r\n",
        "print('Statistics=%.3f, p=%.3f' % (stat, p))\r\n",
        "alpha = 0.05\r\n",
        "if p > alpha:\r\n",
        "    print('Data looks Gaussian (fail to reject H0)')\r\n",
        "else:\r\n",
        "    print('Data does not look Gaussian (reject H0)')\r\n"
      ],
      "execution_count": null,
      "outputs": [
        {
          "output_type": "stream",
          "text": [
            "Statistics=209433.435, p=0.000\n",
            "Data does not look Gaussian (reject H0)\n"
          ],
          "name": "stdout"
        }
      ]
    },
    {
      "cell_type": "code",
      "metadata": {
        "colab": {
          "base_uri": "https://localhost:8080/",
          "height": 319
        },
        "id": "qBIxkrpQQAod",
        "outputId": "8d944cbf-ab38-4d26-d090-6c758d554d72"
      },
      "source": [
        "# check using Kurtosis and Skewness, to determine if the data distribution departs from the normal distribution.\r\n",
        "sns.distplot(df.Global_active_power);\r\n",
        "print( 'Kurtosis of normal distribution: {}'.format(stats.kurtosis(df.Global_active_power)))\r\n",
        "print( 'Skewness of normal distribution: {}'.format(stats.skew(df.Global_active_power)))"
      ],
      "execution_count": null,
      "outputs": [
        {
          "output_type": "stream",
          "text": [
            "Kurtosis of normal distribution: 3.3000455724441435\n",
            "Skewness of normal distribution: 1.6706737339542492\n"
          ],
          "name": "stdout"
        },
        {
          "output_type": "display_data",
          "data": {
            "image/png": "[encoded data removed]",
            "text/plain": [
              "<Figure size 432x288 with 1 Axes>"
            ]
          },
          "metadata": {
            "tags": [],
            "needs_background": "light"
          }
        }
      ]
    },
    {
      "cell_type": "markdown",
      "metadata": {
        "id": "gjDK_wi3Sv7k"
      },
      "source": [
        "Kurtosis: describes heaviness of the tails of a distribution\r\n",
        "Normal Distribution has a kurtosis of close to 0. If the kurtosis is greater than zero, then distribution has heavier tails. If the kurtosis is less than zero, then the distribution is light tails. And our Kurtosis is greater than zero.\r\n",
        "Skewness: measures asymmetry of the distribution\r\n",
        "If the skewness is between -0.5 and 0.5, the data are fairly symmetrical. If the skewness is between -1 and — 0.5 or between 0.5 and 1, the data are moderately skewed. If the skewness is less than -1 or greater than 1, the data are highly skewed. And our skewness is greater than 1."
      ]
    },
    {
      "cell_type": "markdown",
      "metadata": {
        "id": "FXuyYvgxS52g"
      },
      "source": [
        "**Plot**"
      ]
    },
    {
      "cell_type": "code",
      "metadata": {
        "colab": {
          "base_uri": "https://localhost:8080/",
          "height": 389
        },
        "id": "gKPOoi5XS5Oi",
        "outputId": "b176b957-ea14-4af9-9dd2-21d3bf25e3e8"
      },
      "source": [
        "plt.figure(figsize=(14,5))\r\n",
        "plt.subplot(1,2,1)\r\n",
        "plt.subplots_adjust(wspace=0.2)\r\n",
        "sns.boxplot(x=\"year\", y=\"Global_active_power\", data=df)\r\n",
        "plt.xlabel('year')\r\n",
        "plt.title('Box plot of Yearly Global Active Power')\r\n",
        "sns.despine(left=True)\r\n",
        "plt.tight_layout()\r\n",
        "plt.subplot(1,2,2)\r\n",
        "sns.boxplot(x=\"quarter\", y=\"Global_active_power\", data=df)\r\n",
        "plt.xlabel('quarter')\r\n",
        "plt.title('Box plot of Quarterly Global Active Power')\r\n",
        "sns.despine(left=True)\r\n",
        "plt.tight_layout()"
      ],
      "execution_count": null,
      "outputs": [
        {
          "output_type": "display_data",
          "data": {
            "image/png": "[encoded data removed]",
            "text/plain": [
              "<Figure size 1008x360 with 2 Axes>"
            ]
          },
          "metadata": {
            "tags": [],
            "needs_background": "light"
          }
        }
      ]
    },
    {
      "cell_type": "code",
      "metadata": {
        "id": "9M81h1sH0oZb"
      },
      "source": [
        "df1=df.loc[:,['date_time','Global_active_power']]\r\n",
        "df1.set_index('date_time',inplace=True)"
      ],
      "execution_count": null,
      "outputs": []
    },
    {
      "cell_type": "code",
      "metadata": {
        "colab": {
          "base_uri": "https://localhost:8080/",
          "height": 470
        },
        "id": "mPRLc5G9TCgV",
        "outputId": "24ac7fff-af76-4f07-ca93-b91c50d73d7c"
      },
      "source": [
        "plt.figure(figsize=(14,6))\r\n",
        "plt.subplot(1,2,1)\r\n",
        "df['Global_active_power'].hist(bins=50)\r\n",
        "plt.title('Global Active Power Distribution')\r\n",
        "plt.subplot(1,2,2)\r\n",
        "stats.probplot(df['Global_active_power'], plot=plt)\r\n",
        "df1.describe().T"
      ],
      "execution_count": null,
      "outputs": [
        {
          "output_type": "execute_result",
          "data": {
            "text/html": [
              "<div>\n",
              "<style scoped>\n",
              "    .dataframe tbody tr th:only-of-type {\n",
              "        vertical-align: middle;\n",
              "    }\n",
              "\n",
              "    .dataframe tbody tr th {\n",
              "        vertical-align: top;\n",
              "    }\n",
              "\n",
              "    .dataframe thead th {\n",
              "        text-align: right;\n",
              "    }\n",
              "</style>\n",
              "<table border=\"1\" class=\"dataframe\">\n",
              "  <thead>\n",
              "    <tr style=\"text-align: right;\">\n",
              "      <th></th>\n",
              "      <th>count</th>\n",
              "      <th>mean</th>\n",
              "      <th>std</th>\n",
              "      <th>min</th>\n",
              "      <th>25%</th>\n",
              "      <th>50%</th>\n",
              "      <th>75%</th>\n",
              "      <th>max</th>\n",
              "    </tr>\n",
              "  </thead>\n",
              "  <tbody>\n",
              "    <tr>\n",
              "      <th>Global_active_power</th>\n",
              "      <td>664527.0000</td>\n",
              "      <td>1.1761</td>\n",
              "      <td>1.1840</td>\n",
              "      <td>0.0820</td>\n",
              "      <td>0.2940</td>\n",
              "      <td>0.6060</td>\n",
              "      <td>1.6240</td>\n",
              "      <td>10.6700</td>\n",
              "    </tr>\n",
              "  </tbody>\n",
              "</table>\n",
              "</div>"
            ],
            "text/plain": [
              "                          count   mean    std  ...    50%    75%     max\n",
              "Global_active_power 664527.0000 1.1761 1.1840  ... 0.6060 1.6240 10.6700\n",
              "\n",
              "[1 rows x 8 columns]"
            ]
          },
          "metadata": {
            "tags": []
          },
          "execution_count": 19
        },
        {
          "output_type": "display_data",
          "data": {
            "image/png": "[encoded data removed]",
            "text/plain": [
              "<Figure size 1008x432 with 2 Axes>"
            ]
          },
          "metadata": {
            "tags": [],
            "needs_background": "light"
          }
        }
      ]
    },
    {
      "cell_type": "code",
      "metadata": {
        "colab": {
          "base_uri": "https://localhost:8080/",
          "height": 281
        },
        "id": "fQJACIqCTc9b",
        "outputId": "9cb8b74b-47d6-41c8-e555-9874b8580aa1"
      },
      "source": [
        "plt.figure(figsize=(14,8))\r\n",
        "plt.subplot(2,2,1)\r\n",
        "df.groupby('year').Global_active_power.agg('mean').plot()\r\n",
        "plt.xlabel('')\r\n",
        "plt.title('Mean Global active power by Year')"
      ],
      "execution_count": null,
      "outputs": [
        {
          "output_type": "execute_result",
          "data": {
            "text/plain": [
              "Text(0.5, 1.0, 'Mean Global active power by Year')"
            ]
          },
          "metadata": {
            "tags": []
          },
          "execution_count": 20
        },
        {
          "output_type": "display_data",
          "data": {
            "image/png": "[encoded data removed]",
            "text/plain": [
              "<Figure size 1008x576 with 1 Axes>"
            ]
          },
          "metadata": {
            "tags": [],
            "needs_background": "light"
          }
        }
      ]
    },
    {
      "cell_type": "code",
      "metadata": {
        "colab": {
          "base_uri": "https://localhost:8080/",
          "height": 523
        },
        "id": "zgWjZhebl96h",
        "outputId": "4f943972-80e2-4539-e0f2-6ca2d3253a43"
      },
      "source": [
        "pd.pivot_table(df.loc[df['year'] != 2006], values = \"Global_active_power\", \r\n",
        "               columns = \"year\", index = \"month\").plot(subplots = True, figsize=(12, 12), layout=(3, 5), sharey=True)"
      ],
      "execution_count": null,
      "outputs": [
        {
          "output_type": "execute_result",
          "data": {
            "text/plain": [
              "array([[<matplotlib.axes._subplots.AxesSubplot object at 0x7efe9249aa58>,\n",
              "        <matplotlib.axes._subplots.AxesSubplot object at 0x7efe9228c748>,\n",
              "        <matplotlib.axes._subplots.AxesSubplot object at 0x7efe9223b8d0>,\n",
              "        <matplotlib.axes._subplots.AxesSubplot object at 0x7efe921e9f28>,\n",
              "        <matplotlib.axes._subplots.AxesSubplot object at 0x7efe921a45c0>],\n",
              "       [<matplotlib.axes._subplots.AxesSubplot object at 0x7efe921d5c18>,\n",
              "        <matplotlib.axes._subplots.AxesSubplot object at 0x7efe921922b0>,\n",
              "        <matplotlib.axes._subplots.AxesSubplot object at 0x7efe921418d0>,\n",
              "        <matplotlib.axes._subplots.AxesSubplot object at 0x7efe92141940>,\n",
              "        <matplotlib.axes._subplots.AxesSubplot object at 0x7efe920a8da0>],\n",
              "       [<matplotlib.axes._subplots.AxesSubplot object at 0x7efe92065550>,\n",
              "        <matplotlib.axes._subplots.AxesSubplot object at 0x7efe92092cc0>,\n",
              "        <matplotlib.axes._subplots.AxesSubplot object at 0x7efe9204e470>,\n",
              "        <matplotlib.axes._subplots.AxesSubplot object at 0x7efe91ffdbe0>,\n",
              "        <matplotlib.axes._subplots.AxesSubplot object at 0x7efe91fb9390>]],\n",
              "      dtype=object)"
            ]
          },
          "metadata": {
            "tags": []
          },
          "execution_count": 21
        },
        {
          "output_type": "display_data",
          "data": {
            "image/png": "[encoded data removed]",
            "text/plain": [
              "<Figure size 864x864 with 15 Axes>"
            ]
          },
          "metadata": {
            "tags": [],
            "needs_background": "light"
          }
        }
      ]
    },
    {
      "cell_type": "markdown",
      "metadata": {
        "id": "IUDyn6_On2mC"
      },
      "source": [
        "**Dickey Fuller test for stationarity**"
      ]
    },
    {
      "cell_type": "markdown",
      "metadata": {
        "id": "M7ExtQEtoyNN"
      },
      "source": [
        "Stationary series has constant mean and variance over time. Rolling average and the rolling standard deviation of time series do not change over time."
      ]
    },
    {
      "cell_type": "markdown",
      "metadata": {
        "id": "RtFtZ_Upo6g_"
      },
      "source": [
        "Null Hypothesis (H0): It suggests the time series has a unit root, meaning it is non-stationary. It has some time dependent structure.\r\n",
        "Alternate Hypothesis (H1): It suggests the time series does not have a unit root, meaning it is stationary. It does not have time-dependent structure.\r\n",
        "p-value > 0.05: Accept the null hypothesis (H0), the data has a unit root and is non-stationary.\r\n",
        "p-value <= 0.05: Reject the null hypothesis (H0), the data does not have a unit root and is stationary."
      ]
    },
    {
      "cell_type": "code",
      "metadata": {
        "id": "vjYPKQPjny3Y"
      },
      "source": [
        "df2=df1.resample('D').agg(np.mean)"
      ],
      "execution_count": null,
      "outputs": []
    },
    {
      "cell_type": "code",
      "metadata": {
        "colab": {
          "base_uri": "https://localhost:8080/",
          "height": 233
        },
        "id": "zwyscL_cqaTb",
        "outputId": "5bf2de35-6c0b-4134-ab3d-0a58828d1dc1"
      },
      "source": [
        "df1.head()"
      ],
      "execution_count": null,
      "outputs": [
        {
          "output_type": "execute_result",
          "data": {
            "text/html": [
              "<div>\n",
              "<style scoped>\n",
              "    .dataframe tbody tr th:only-of-type {\n",
              "        vertical-align: middle;\n",
              "    }\n",
              "\n",
              "    .dataframe tbody tr th {\n",
              "        vertical-align: top;\n",
              "    }\n",
              "\n",
              "    .dataframe thead th {\n",
              "        text-align: right;\n",
              "    }\n",
              "</style>\n",
              "<table border=\"1\" class=\"dataframe\">\n",
              "  <thead>\n",
              "    <tr style=\"text-align: right;\">\n",
              "      <th></th>\n",
              "      <th>Global_active_power</th>\n",
              "    </tr>\n",
              "    <tr>\n",
              "      <th>date_time</th>\n",
              "      <th></th>\n",
              "    </tr>\n",
              "  </thead>\n",
              "  <tbody>\n",
              "    <tr>\n",
              "      <th>2006-12-16 17:24:00</th>\n",
              "      <td>4.2160</td>\n",
              "    </tr>\n",
              "    <tr>\n",
              "      <th>2006-12-16 17:25:00</th>\n",
              "      <td>5.3600</td>\n",
              "    </tr>\n",
              "    <tr>\n",
              "      <th>2006-12-16 17:26:00</th>\n",
              "      <td>5.3740</td>\n",
              "    </tr>\n",
              "    <tr>\n",
              "      <th>2006-12-16 17:27:00</th>\n",
              "      <td>5.3880</td>\n",
              "    </tr>\n",
              "    <tr>\n",
              "      <th>2006-12-16 17:28:00</th>\n",
              "      <td>3.6660</td>\n",
              "    </tr>\n",
              "  </tbody>\n",
              "</table>\n",
              "</div>"
            ],
            "text/plain": [
              "                     Global_active_power\n",
              "date_time                               \n",
              "2006-12-16 17:24:00               4.2160\n",
              "2006-12-16 17:25:00               5.3600\n",
              "2006-12-16 17:26:00               5.3740\n",
              "2006-12-16 17:27:00               5.3880\n",
              "2006-12-16 17:28:00               3.6660"
            ]
          },
          "metadata": {
            "tags": []
          },
          "execution_count": 23
        }
      ]
    },
    {
      "cell_type": "code",
      "metadata": {
        "colab": {
          "base_uri": "https://localhost:8080/",
          "height": 233
        },
        "id": "9MciKfBUqW2u",
        "outputId": "02deb414-c7f7-40b2-df44-285f31e00e64"
      },
      "source": [
        "df2.head()"
      ],
      "execution_count": null,
      "outputs": [
        {
          "output_type": "execute_result",
          "data": {
            "text/html": [
              "<div>\n",
              "<style scoped>\n",
              "    .dataframe tbody tr th:only-of-type {\n",
              "        vertical-align: middle;\n",
              "    }\n",
              "\n",
              "    .dataframe tbody tr th {\n",
              "        vertical-align: top;\n",
              "    }\n",
              "\n",
              "    .dataframe thead th {\n",
              "        text-align: right;\n",
              "    }\n",
              "</style>\n",
              "<table border=\"1\" class=\"dataframe\">\n",
              "  <thead>\n",
              "    <tr style=\"text-align: right;\">\n",
              "      <th></th>\n",
              "      <th>Global_active_power</th>\n",
              "    </tr>\n",
              "    <tr>\n",
              "      <th>date_time</th>\n",
              "      <th></th>\n",
              "    </tr>\n",
              "  </thead>\n",
              "  <tbody>\n",
              "    <tr>\n",
              "      <th>2006-12-16</th>\n",
              "      <td>3.0535</td>\n",
              "    </tr>\n",
              "    <tr>\n",
              "      <th>2006-12-17</th>\n",
              "      <td>2.3545</td>\n",
              "    </tr>\n",
              "    <tr>\n",
              "      <th>2006-12-18</th>\n",
              "      <td>1.5304</td>\n",
              "    </tr>\n",
              "    <tr>\n",
              "      <th>2006-12-19</th>\n",
              "      <td>1.1571</td>\n",
              "    </tr>\n",
              "    <tr>\n",
              "      <th>2006-12-20</th>\n",
              "      <td>1.5457</td>\n",
              "    </tr>\n",
              "  </tbody>\n",
              "</table>\n",
              "</div>"
            ],
            "text/plain": [
              "            Global_active_power\n",
              "date_time                      \n",
              "2006-12-16               3.0535\n",
              "2006-12-17               2.3545\n",
              "2006-12-18               1.5304\n",
              "2006-12-19               1.1571\n",
              "2006-12-20               1.5457"
            ]
          },
          "metadata": {
            "tags": []
          },
          "execution_count": 24
        }
      ]
    },
    {
      "cell_type": "code",
      "metadata": {
        "colab": {
          "base_uri": "https://localhost:8080/"
        },
        "id": "0YBKpv05yYrm",
        "outputId": "ea1b5e81-4614-4e56-b1eb-ddc4c77a396e"
      },
      "source": [
        "def test_stationarity(timeseries):\r\n",
        "    # rolmean = timeseries.rolling(window=30).mean()\r\n",
        "    # rolstd = timeseries.rolling(window=30).std()\r\n",
        "    \r\n",
        "    # plt.figure(figsize=(14,5))\r\n",
        "    # sns.despine(left=True)\r\n",
        "    # orig = plt.plot(timeseries, color='blue',label='Original')\r\n",
        "    # mean = plt.plot(rolmean, color='red', label='Rolling Mean')\r\n",
        "    # std = plt.plot(rolstd, color='black', label = 'Rolling Std')\r\n",
        "\r\n",
        "    # plt.legend(loc='best'); plt.title('Rolling Mean & Standard Deviation')\r\n",
        "    # plt.show()\r\n",
        "    \r\n",
        "    print ('<Results of Dickey-Fuller Test>')\r\n",
        "    dftest = adfuller(timeseries, autolag='AIC')\r\n",
        "    dfoutput = pd.Series(dftest[0:4],\r\n",
        "                         index=['Test Statistic','p-value','#Lags Used','Number of Observations Used'])\r\n",
        "    for key,value in dftest[4].items():\r\n",
        "        dfoutput['Critical Value (%s)'%key] = value\r\n",
        "    print(dfoutput)\r\n",
        "test_stationarity(df2.Global_active_power.dropna())"
      ],
      "execution_count": null,
      "outputs": [
        {
          "output_type": "stream",
          "text": [
            "<Results of Dickey-Fuller Test>\n",
            "Test Statistic                 -4.5964\n",
            "p-value                         0.0001\n",
            "#Lags Used                      9.0000\n",
            "Number of Observations Used   454.0000\n",
            "Critical Value (1%)            -3.4448\n",
            "Critical Value (5%)            -2.8679\n",
            "Critical Value (10%)           -2.5702\n",
            "dtype: float64\n"
          ],
          "name": "stdout"
        }
      ]
    },
    {
      "cell_type": "code",
      "metadata": {
        "id": "Bgx-_fUrmJPR"
      },
      "source": [
        "# In statistics, a unit root test tests whether a time series variable is non-stationary \r\n",
        "# and possesses a unit root. The null hypothesis is generally defined as the presence of a unit root \r\n",
        "# and the alternative hypothesis is stationarity"
      ],
      "execution_count": null,
      "outputs": []
    },
    {
      "cell_type": "markdown",
      "metadata": {
        "id": "hj7B4G6ayeJV"
      },
      "source": [
        "Running the example prints the test statistic value of -8. The more negative this statistic, the more likely we are to reject the null hypothesis (we have a stationary dataset).\r\n",
        "\r\n",
        "As part of the output, we get a look-up table to help determine the ADF statistic. We can see that our statistic value of -4 is less than the value of -3.4 at 1%.\r\n",
        "\r\n",
        "This suggests that we can reject the null hypothesis with a significance level of less than 1% (i.e. a low probability that the result is a statistical fluke).\r\n",
        "\r\n",
        "Rejecting the null hypothesis means that the process has no unit root, and in turn that the time series is stationary or does not have time-dependent structure."
      ]
    },
    {
      "cell_type": "markdown",
      "metadata": {
        "id": "sAZ65JQ81tCc"
      },
      "source": [
        "**LSTM Model**"
      ]
    },
    {
      "cell_type": "code",
      "metadata": {
        "id": "jgi1YH3Ty7LA"
      },
      "source": [
        "dataset = df.Global_active_power.values #numpy.ndarray\r\n",
        "dataset = dataset.astype('float32')\r\n",
        "dataset = np.reshape(dataset, (-1, 1))\r\n",
        "scaler = MinMaxScaler(feature_range=(0, 1))\r\n",
        "dataset = scaler.fit_transform(dataset)\r\n",
        "train_size = int(len(dataset) * 0.80)\r\n",
        "test_size = len(dataset) - train_size\r\n",
        "train, test = dataset[0:train_size,:], dataset[train_size:len(dataset),:]\r\n",
        "# test[0][1]\r\n"
      ],
      "execution_count": null,
      "outputs": []
    },
    {
      "cell_type": "code",
      "metadata": {
        "id": "6QV-D1E714CE"
      },
      "source": [
        "def create_dataset(dataset, look_back=1):\r\n",
        "    X, Y = [], []\r\n",
        "    for i in range(len(dataset)-look_back-1):\r\n",
        "        a = dataset[i:(i+look_back), 0]\r\n",
        "        X.append(a)\r\n",
        "        Y.append(dataset[i + look_back, 0])\r\n",
        "    return np.array(X), np.array(Y)\r\n",
        "    \r\n",
        "look_back = 30\r\n",
        "X_train, Y_train = create_dataset(train, look_back)\r\n",
        "X_test, Y_test = create_dataset(test, look_back)"
      ],
      "execution_count": null,
      "outputs": []
    },
    {
      "cell_type": "code",
      "metadata": {
        "colab": {
          "base_uri": "https://localhost:8080/"
        },
        "id": "Ugcn1WTq2RlD",
        "outputId": "9b07cba4-f677-4442-9b9e-0c10970bf5f4"
      },
      "source": [
        "Y_train[0]"
      ],
      "execution_count": null,
      "outputs": [
        {
          "output_type": "execute_result",
          "data": {
            "text/plain": [
              "0.24914998"
            ]
          },
          "metadata": {
            "tags": []
          },
          "execution_count": 53
        }
      ]
    },
    {
      "cell_type": "code",
      "metadata": {
        "colab": {
          "base_uri": "https://localhost:8080/"
        },
        "id": "swvkGife2TZt",
        "outputId": "fc81cd35-79be-43d6-f04d-65b2235708e1"
      },
      "source": [
        "X_train[0]"
      ],
      "execution_count": null,
      "outputs": [
        {
          "output_type": "execute_result",
          "data": {
            "text/plain": [
              "array([0.390442  , 0.49848884, 0.4998111 , 0.5011333 , 0.3384964 ,\n",
              "       0.3247072 , 0.34189647, 0.3417076 , 0.3386853 , 0.3381186 ,\n",
              "       0.4123536 , 0.5034001 , 0.4856441 , 0.48979977, 0.37514165,\n",
              "       0.3118625 , 0.30109558, 0.31620702, 0.3007178 , 0.3443521 ,\n",
              "       0.5489233 , 0.7200604 , 0.65583676, 0.48092178, 0.4148092 ,\n",
              "       0.29901776, 0.2978844 , 0.29712883, 0.2999622 , 0.2924065 ],\n",
              "      dtype=float32)"
            ]
          },
          "metadata": {
            "tags": []
          },
          "execution_count": 54
        }
      ]
    },
    {
      "cell_type": "code",
      "metadata": {
        "id": "ef8ot6rS2XCV"
      },
      "source": [
        "\r\n",
        "# reshape input to be [samples, time steps, features]\r\n",
        "X_train = np.reshape(X_train, (X_train.shape[0], X_train.shape[1], 1))\r\n",
        "X_test = np.reshape(X_test, (X_test.shape[0], X_test.shape[1], 1))"
      ],
      "execution_count": null,
      "outputs": []
    },
    {
      "cell_type": "code",
      "metadata": {
        "colab": {
          "base_uri": "https://localhost:8080/"
        },
        "id": "6kThPfwx4nQ4",
        "outputId": "e9ae0ded-a61c-45ab-d893-e29c2b20552d"
      },
      "source": [
        "\r\n",
        "model = Sequential()\r\n",
        "model.add(LSTM(100, input_shape=(X_train.shape[1], X_train.shape[2])))\r\n",
        "model.add(Dropout(0.2))\r\n",
        "model.add(Dense(1))\r\n",
        "model.compile(loss='mean_squared_error', optimizer='adam')\r\n",
        "\r\n",
        "history = model.fit(X_train, Y_train, epochs=20, batch_size=70, validation_data=(X_test, Y_test), \r\n",
        "                    callbacks=[EarlyStopping(monitor='val_loss', patience=10)], verbose=1, shuffle=False)\r\n",
        "\r\n",
        "model.summary()"
      ],
      "execution_count": null,
      "outputs": [
        {
          "output_type": "stream",
          "text": [
            "Epoch 1/20\n",
            "7595/7595 [==============================] - 31s 4ms/step - loss: 0.0018 - val_loss: 6.9202e-04\n",
            "Epoch 2/20\n",
            "7595/7595 [==============================] - 29s 4ms/step - loss: 0.0012 - val_loss: 6.8271e-04\n",
            "Epoch 3/20\n",
            "7595/7595 [==============================] - 29s 4ms/step - loss: 0.0011 - val_loss: 6.7677e-04\n",
            "Epoch 4/20\n",
            "7595/7595 [==============================] - 28s 4ms/step - loss: 0.0011 - val_loss: 6.7025e-04\n",
            "Epoch 5/20\n",
            "7595/7595 [==============================] - 28s 4ms/step - loss: 0.0011 - val_loss: 6.7696e-04\n",
            "Epoch 6/20\n",
            "7595/7595 [==============================] - 28s 4ms/step - loss: 0.0011 - val_loss: 6.9605e-04\n",
            "Epoch 7/20\n",
            "7595/7595 [==============================] - 29s 4ms/step - loss: 0.0011 - val_loss: 6.8710e-04\n",
            "Epoch 8/20\n",
            "7595/7595 [==============================] - 28s 4ms/step - loss: 0.0011 - val_loss: 6.8142e-04\n",
            "Epoch 9/20\n",
            "7595/7595 [==============================] - 29s 4ms/step - loss: 0.0011 - val_loss: 7.0581e-04\n",
            "Epoch 10/20\n",
            "7595/7595 [==============================] - 29s 4ms/step - loss: 0.0011 - val_loss: 6.9626e-04\n",
            "Epoch 11/20\n",
            "7595/7595 [==============================] - 29s 4ms/step - loss: 0.0011 - val_loss: 6.7340e-04\n",
            "Epoch 12/20\n",
            "7595/7595 [==============================] - 28s 4ms/step - loss: 0.0011 - val_loss: 7.0906e-04\n",
            "Epoch 13/20\n",
            "7595/7595 [==============================] - 28s 4ms/step - loss: 0.0011 - val_loss: 6.7031e-04\n",
            "Epoch 14/20\n",
            "7595/7595 [==============================] - 29s 4ms/step - loss: 0.0011 - val_loss: 6.8997e-04\n",
            "Model: \"sequential_1\"\n",
            "_________________________________________________________________\n",
            "Layer (type)                 Output Shape              Param #   \n",
            "=================================================================\n",
            "lstm_1 (LSTM)                (None, 100)               40800     \n",
            "_________________________________________________________________\n",
            "dropout_1 (Dropout)          (None, 100)               0         \n",
            "_________________________________________________________________\n",
            "dense_1 (Dense)              (None, 1)                 101       \n",
            "=================================================================\n",
            "Total params: 40,901\n",
            "Trainable params: 40,901\n",
            "Non-trainable params: 0\n",
            "_________________________________________________________________\n"
          ],
          "name": "stdout"
        }
      ]
    },
    {
      "cell_type": "code",
      "metadata": {
        "colab": {
          "base_uri": "https://localhost:8080/"
        },
        "id": "eiNvkb0q4rFD",
        "outputId": "94f8258d-91bb-4027-d4bb-cfff89798eee"
      },
      "source": [
        "train_predict = model.predict(X_train)\r\n",
        "test_predict = model.predict(X_test)\r\n",
        "# invert predictions\r\n",
        "train_predict = scaler.inverse_transform(train_predict)\r\n",
        "Y_train = scaler.inverse_transform([Y_train])\r\n",
        "test_predict = scaler.inverse_transform(test_predict)\r\n",
        "Y_test = scaler.inverse_transform([Y_test])\r\n",
        "print('Train Mean Absolute Error:', mean_absolute_error(Y_train[0], train_predict[:,0]))\r\n",
        "print('Train Root Mean Squared Error:',np.sqrt(mean_squared_error(Y_train[0], train_predict[:,0])))\r\n",
        "print('Test Mean Absolute Error:', mean_absolute_error(Y_test[0], test_predict[:,0]))\r\n",
        "print('Test Root Mean Squared Error:',np.sqrt(mean_squared_error(Y_test[0], test_predict[:,0])))"
      ],
      "execution_count": null,
      "outputs": [
        {
          "output_type": "stream",
          "text": [
            "Train Mean Absolute Error: 0.13376833623748224\n",
            "Train Root Mean Squared Error: 0.3047649082560364\n",
            "Test Mean Absolute Error: 0.11955690577192979\n",
            "Test Root Mean Squared Error: 0.2781187052155098\n"
          ],
          "name": "stdout"
        }
      ]
    },
    {
      "cell_type": "code",
      "metadata": {
        "colab": {
          "base_uri": "https://localhost:8080/",
          "height": 300
        },
        "id": "tC-hn42k8C0w",
        "outputId": "9da5781a-bf0d-44a9-c8aa-f80e1b626a1b"
      },
      "source": [
        "plt.figure(figsize=(8,4))\r\n",
        "plt.plot(history.history['loss'], label='Train Loss')\r\n",
        "plt.plot(history.history['val_loss'], label='Test Loss')\r\n",
        "plt.title('model loss')\r\n",
        "plt.ylabel('loss')\r\n",
        "plt.xlabel('epochs')\r\n",
        "plt.legend(loc='upper right')\r\n",
        "plt.show();"
      ],
      "execution_count": null,
      "outputs": [
        {
          "output_type": "display_data",
          "data": {
            "image/png": "[encoded data removed]",
            "text/plain": [
              "<Figure size 576x288 with 1 Axes>"
            ]
          },
          "metadata": {
            "tags": [],
            "needs_background": "light"
          }
        }
      ]
    },
    {
      "cell_type": "code",
      "metadata": {
        "colab": {
          "base_uri": "https://localhost:8080/",
          "height": 316
        },
        "id": "bIxgzV7U8esG",
        "outputId": "053e4cd7-ee28-4640-8bcc-95052c2f9a49"
      },
      "source": [
        "aa=[x for x in range(200)]\r\n",
        "plt.figure(figsize=(8,4))\r\n",
        "plt.plot(aa, Y_test[0][:200], marker='.', label=\"actual\")\r\n",
        "plt.plot(aa, test_predict[:,0][:200], 'r', label=\"prediction\")\r\n",
        "# plt.tick_params(left=False, labelleft=True) #remove ticks\r\n",
        "plt.tight_layout()\r\n",
        "sns.despine(top=True)\r\n",
        "plt.subplots_adjust(left=0.07)\r\n",
        "plt.ylabel('Global_active_power', size=15)\r\n",
        "plt.xlabel('Time step', size=15)\r\n",
        "plt.legend(fontsize=15)\r\n",
        "plt.show();"
      ],
      "execution_count": null,
      "outputs": [
        {
          "output_type": "display_data",
          "data": {
            "image/png": "[encoded data removed]",
            "text/plain": [
              "<Figure size 576x288 with 1 Axes>"
            ]
          },
          "metadata": {
            "tags": [],
            "needs_background": "light"
          }
        }
      ]
    },
    {
      "cell_type": "code",
      "metadata": {
        "id": "6gwAnZYr8hkr"
      },
      "source": [
        ""
      ],
      "execution_count": null,
      "outputs": []
    }
  ]
}